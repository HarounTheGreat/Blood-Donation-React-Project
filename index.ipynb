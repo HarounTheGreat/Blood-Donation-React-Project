{
 "cells": [
  {
   "attachments": {},
   "cell_type": "markdown",
   "metadata": {},
   "source": [
    "# Blood Donation Data"
   ]
  },
  {
   "cell_type": "code",
   "execution_count": 16,
   "metadata": {},
   "outputs": [],
   "source": [
    "import random\n",
    "import string\n",
    "import xlsxwriter\n",
    "import pandas as pd\n",
    "import numpy as np\n",
    "from openpyxl import Workbook"
   ]
  },
  {
   "attachments": {},
   "cell_type": "markdown",
   "metadata": {},
   "source": [
    "### uploading the dataset: \n",
    "Population in every state: Population by state\n",
    "\n",
    "\n",
    "|Variable   | Explanation                     |\n",
    "|-----------|---------------------------------|\n",
    "|   N       |Number uniquely assigned to each State|\n",
    "|State      | State name                       |\n",
    "|Population | Population in this state        |\n",
    "\n",
    "\n",
    "Tunisia: This file contains cities name in tunisia \n",
    "\n",
    "|Variable   | Explanation                     |\n",
    "|-----------|---------------------------------|\n",
    "|   N       | Number uniquely assigned to each State|\n",
    "|Governorate| State Name                      |\n",
    "|Cities     | city name in this state         |"
   ]
  },
  {
   "cell_type": "code",
   "execution_count": 17,
   "metadata": {},
   "outputs": [],
   "source": [
    "Tunisia=pd.read_excel(r\"./Data/Tunisia.xlsx\")\n",
    "Tn_State=pd.read_excel(r\"./Data/Population in every state.xlsx\")"
   ]
  },
  {
   "attachments": {},
   "cell_type": "markdown",
   "metadata": {},
   "source": [
    "### prepare to create a new excel sheet "
   ]
  },
  {
   "cell_type": "code",
   "execution_count": 18,
   "metadata": {},
   "outputs": [],
   "source": [
    "workbook = xlsxwriter.Workbook('./Data.xlsx')\n",
    "worksheet = workbook.add_worksheet()"
   ]
  },
  {
   "attachments": {},
   "cell_type": "markdown",
   "metadata": {},
   "source": [
    "This what we want to create Blood Donation data\n",
    "\n",
    "|    | Variable   | Explanation                                                |\n",
    "|---:|:-----------|:-----------------------------------------------------------|\n",
    "|  0 | id         | Donar ID                                                   |\n",
    "|  1 | fullName   | Donor Full Name                                            |\n",
    "|  2 | sex        | Donor sex (Male OR Female)                                 |\n",
    "|  3 | blood_type | Donor Blood Type                                           |\n",
    "|  4 | city       | Donor City (City , State , Country)                        |\n",
    "|  5 | phoneNum   | Donor Phone Number                                         |\n",
    "|  6 | last_donation | Donor's Last Donation Data                              |\n",
    "\n"
   ]
  },
  {
   "cell_type": "code",
   "execution_count": 19,
   "metadata": {},
   "outputs": [
    {
     "data": {
      "text/plain": [
       "0"
      ]
     },
     "execution_count": 19,
     "metadata": {},
     "output_type": "execute_result"
    }
   ],
   "source": [
    "worksheet.write('A1', 'Id')\n",
    "worksheet.write('B1', 'FullName')\n",
    "worksheet.write('C1', 'Sex')\n",
    "worksheet.write('D1', 'Blood_type')\n",
    "worksheet.write('E1', 'City')\n",
    "worksheet.write('F1', 'PhoneNum')\n",
    "worksheet.write('G1', 'Last_donation')\n",
    "worksheet.write('H1', 'Age')"
   ]
  },
  {
   "cell_type": "code",
   "execution_count": 20,
   "metadata": {},
   "outputs": [],
   "source": [
    "number=int(input())"
   ]
  },
  {
   "cell_type": "code",
   "execution_count": 21,
   "metadata": {},
   "outputs": [
    {
     "name": "stdout",
     "output_type": "stream",
     "text": [
      "['female', 'female', 'female', 'female', 'female', 'female', 'female', 'female', 'female', 'female', 'female', 'female', 'female', 'female', 'female', 'female', 'female', 'female', 'female', 'female', 'female', 'female', 'female', 'female', 'female', 'female', 'female', 'female', 'female', 'female', 'female', 'female', 'female', 'female', 'female', 'female', 'female', 'female', 'female', 'female', 'female', 'female', 'female', 'female', 'female', 'female', 'female', 'female', 'female', 'female', 'female', 'female', 'male', 'male', 'male', 'male', 'male', 'male', 'male', 'male', 'male', 'male', 'male', 'male', 'male', 'male', 'male', 'male', 'male', 'male', 'male', 'male', 'male', 'male', 'male', 'male', 'male', 'male', 'male', 'male', 'male', 'male', 'male', 'male', 'male', 'male', 'male', 'male', 'male', 'male', 'male', 'male', 'male', 'male', 'male', 'male', 'male', 'male', 'male', 'male']\n"
     ]
    }
   ],
   "source": [
    "sex_list=[]\n",
    "for i in range(100):\n",
    "    if(i<52):\n",
    "        sex_list.append(\"female\")\n",
    "    else:\n",
    "        sex_list.append(\"male\")\n",
    "print(sex_list)"
   ]
  },
  {
   "cell_type": "code",
   "execution_count": 22,
   "metadata": {},
   "outputs": [],
   "source": [
    "def get_random_string(length):\n",
    "    # choose from all lowercase letter\n",
    "    letters = string.ascii_lowercase\n",
    "    result_str = ''.join(random.choice(letters) for i in range(length))\n",
    "    return(result_str)"
   ]
  },
  {
   "attachments": {},
   "cell_type": "markdown",
   "metadata": {},
   "source": [
    "Blood types\n",
    "- O positive: 35%\n",
    "- O negative: 13%\n",
    "- A positive: 30%\n",
    "- A negative: 8%\n",
    "- B positive: 8%\n",
    "- B negative: 2%\n",
    "- AB positive: 2%\n",
    "- AB negative: 1%"
   ]
  },
  {
   "cell_type": "code",
   "execution_count": 23,
   "metadata": {},
   "outputs": [
    {
     "name": "stdout",
     "output_type": "stream",
     "text": [
      "['O+', 'O+', 'O+', 'O+', 'O+', 'O+', 'O+', 'O+', 'O+', 'O+', 'O+', 'O+', 'O+', 'O+', 'O+', 'O+', 'O+', 'O+', 'O+', 'O+', 'O+', 'O+', 'O+', 'O+', 'O+', 'O+', 'O+', 'O+', 'O+', 'O+', 'O+', 'O+', 'O+', 'O+', 'O+', 'O-', 'O-', 'O-', 'O-', 'O-', 'O-', 'O-', 'O-', 'O-', 'O-', 'O-', 'O-', 'O-', 'A+', 'A+', 'A+', 'A+', 'A+', 'A+', 'A+', 'A+', 'A+', 'A+', 'A+', 'A+', 'A+', 'A+', 'A+', 'A+', 'A+', 'A+', 'A+', 'A+', 'A+', 'A+', 'A+', 'A+', 'A+', 'A+', 'A+', 'A+', 'A+', 'A+', 'A-', 'A-', 'A-', 'A-', 'A-', 'A-', 'A-', 'A-', 'B+', 'B+', 'B+', 'B+', 'B+', 'B+', 'B+', 'B+', 'AB+', 'AB+', 'AB-']\n"
     ]
    }
   ],
   "source": [
    "blood_type=[]\n",
    "for i in range(97):\n",
    "    if(i<35):\n",
    "        T='O+'\n",
    "    elif(i<48):\n",
    "        T='O-'\n",
    "    elif(i<78):\n",
    "        T='A+'\n",
    "    elif(i<86):\n",
    "        T='A-'\n",
    "    elif(i<94):\n",
    "        T='B+'\n",
    "    elif(i<94):\n",
    "        T='B-'  \n",
    "    elif(i<96):\n",
    "        T='AB+'\n",
    "    elif(i<97):\n",
    "        T='AB-'\n",
    "    blood_type.append(T)\n",
    "print(blood_type)"
   ]
  },
  {
   "cell_type": "code",
   "execution_count": 24,
   "metadata": {},
   "outputs": [],
   "source": [
    "Tot=Tn_State['Poplation'].sum()\n",
    "List=[]\n",
    "for i in Tn_State['Poplation']:\n",
    "    R=i*100/Tot\n",
    "    List.append(R*10)\n",
    "Tn_State['Per_State']=List"
   ]
  },
  {
   "cell_type": "code",
   "execution_count": 25,
   "metadata": {},
   "outputs": [],
   "source": [
    "R_State=[]\n",
    "for j in range(24):\n",
    "    for k in range(round(Tn_State['Per_State'][j])):\n",
    "        stat=Tn_State['State'][j]\n",
    "        R_State.append(stat)"
   ]
  },
  {
   "cell_type": "code",
   "execution_count": 26,
   "metadata": {},
   "outputs": [],
   "source": [
    "All_State=[\"l'Ariana\"]\n",
    "S=\"l'Ariana\"\n",
    "Disc={}\n",
    "L=[]\n",
    "for i in range(264):\n",
    "    if(S==Tunisia['Governorate'][i]):\n",
    "        L.append(Tunisia['Cities'][i])\n",
    "    else:\n",
    "        S=Tunisia['Governorate'][i]\n",
    "        Disc[Tunisia['Governorate'][i-1]]=L\n",
    "        L=[]\n",
    "        L.append(Tunisia['Cities'][i])\n",
    "        All_State.append(S)\n",
    "Disc[Tunisia['Governorate'][i-1]]=L"
   ]
  },
  {
   "cell_type": "code",
   "execution_count": 27,
   "metadata": {},
   "outputs": [],
   "source": [
    "Age=[]\n",
    "for i in range(18,100):\n",
    "    if(i>18 and i<65) and i!=32:\n",
    "        for k in range(66):\n",
    "            Age.append(str(i))\n",
    "    elif(i>65) and i!=32:\n",
    "        for k in range(10):\n",
    "            Age.append(str(i))\n",
    "    else:\n",
    "        for k in range(100):\n",
    "            Age.append(str(i))"
   ]
  },
  {
   "cell_type": "code",
   "execution_count": 28,
   "metadata": {},
   "outputs": [],
   "source": [
    "Last_donation=[]\n",
    "for i in range(1,8):\n",
    "    t=\"2022-09\"+\"-1\"+str(i)\n",
    "    Last_donation.append(t)"
   ]
  },
  {
   "cell_type": "code",
   "execution_count": 29,
   "metadata": {},
   "outputs": [],
   "source": [
    "for i in range(2,number):\n",
    "    ii=str(i)\n",
    "    A='A'+ii\n",
    "    B='B'+ii\n",
    "    C='C'+ii\n",
    "    D='D'+ii\n",
    "    E='E'+ii\n",
    "    F='F'+ii\n",
    "    G='G'+ii\n",
    "    H='H'+ii\n",
    "    #id\n",
    "    Id=i+12000000\n",
    "    A1=str(Id)\n",
    "    #Full Name\n",
    "    length_fullName = random.randint(10, 20)\n",
    "    fullName=get_random_string(length_fullName)\n",
    "    B1=fullName\n",
    "    #Sex\n",
    "    sex=random.choice(sex_list)\n",
    "    C1=sex\n",
    "    #Blood Type\n",
    "    blood=random.choice(blood_type)\n",
    "    D1=blood\n",
    "    #City\n",
    "    Random_State=random.choice(All_State)\n",
    "    Random_State_city = random.choice(Disc[Random_State])\n",
    "    E1=Random_State_city+', '+Random_State+\", Tunisia\" \n",
    "    #Phone Number\n",
    "    phone_number=93234430 + i\n",
    "    F1=str(phone_number)\n",
    "    #Last Donation Date\n",
    "    Last = random.choice(Last_donation)\n",
    "    G1=Last\n",
    "    #Age\n",
    "    H1 = random.choice(Age)\n",
    "\n",
    "    #Write Results\n",
    "\n",
    "    worksheet.write(A, A1)\n",
    "    worksheet.write(B, B1)\n",
    "    worksheet.write(C, C1)\n",
    "    worksheet.write(D, D1)\n",
    "    worksheet.write(E, E1)\n",
    "    worksheet.write(F, F1)\n",
    "    worksheet.write(G, G1)\n",
    "    worksheet.write(H, H1)"
   ]
  },
  {
   "cell_type": "code",
   "execution_count": null,
   "metadata": {},
   "outputs": [],
   "source": [
    "workbook.close()"
   ]
  }
 ],
 "metadata": {
  "kernelspec": {
   "display_name": "base",
   "language": "python",
   "name": "python3"
  },
  "language_info": {
   "codemirror_mode": {
    "name": "ipython",
    "version": 3
   },
   "file_extension": ".py",
   "mimetype": "text/x-python",
   "name": "python",
   "nbconvert_exporter": "python",
   "pygments_lexer": "ipython3",
   "version": "3.9.13"
  },
  "orig_nbformat": 4,
  "vscode": {
   "interpreter": {
    "hash": "56699ad186de687e8c88be56bb9159ab08e118de17f06b9ea44a37a44e066d8d"
   }
  }
 },
 "nbformat": 4,
 "nbformat_minor": 2
}
